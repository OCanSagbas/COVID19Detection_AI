{
 "cells": [
  {
   "cell_type": "code",
   "execution_count": 1,
   "id": "ca517daf",
   "metadata": {},
   "outputs": [
    {
     "name": "stdout",
     "output_type": "stream",
     "text": [
      "True\n"
     ]
    }
   ],
   "source": [
    "import os\n",
    "from tensorflow.keras.applications import InceptionV3\n",
    "import tensorflow as tf\n",
    "from keras_preprocessing.image import ImageDataGenerator\n",
    "import matplotlib.pyplot as plt\n",
    "print(tf.test.is_built_with_cuda())"
   ]
  },
  {
   "cell_type": "code",
   "execution_count": 2,
   "id": "580d9aaa",
   "metadata": {},
   "outputs": [],
   "source": [
    "model = tf.keras.models.Sequential([\n",
    "    tf.keras.layers.Conv2D(32, (3, 3), activation='relu', input_shape=(256, 256, 3)),\n",
    "    tf.keras.layers.MaxPooling2D((2, 2)),\n",
    "    tf.keras.layers.Conv2D(64, (3, 3), activation='relu'),\n",
    "    tf.keras.layers.MaxPooling2D((2, 2)),\n",
    "    tf.keras.layers.Conv2D(128, (3, 3), activation='relu'),\n",
    "    tf.keras.layers.MaxPooling2D((2, 2)),\n",
    "    tf.keras.layers.Conv2D(128, (3, 3), activation='relu'),\n",
    "    tf.keras.layers.MaxPooling2D((2, 2)),\n",
    "    tf.keras.layers.Flatten(),\n",
    "    tf.keras.layers.Dense(256, activation='relu'),\n",
    "    tf.keras.layers.Dense(3, activation='softmax')\n",
    "])"
   ]
  },
  {
   "cell_type": "code",
   "execution_count": 3,
   "id": "3b25fc01",
   "metadata": {
    "scrolled": true
   },
   "outputs": [
    {
     "name": "stdout",
     "output_type": "stream",
     "text": [
      "Model: \"sequential\"\n",
      "_________________________________________________________________\n",
      " Layer (type)                Output Shape              Param #   \n",
      "=================================================================\n",
      " conv2d (Conv2D)             (None, 252, 252, 6)       456       \n",
      "                                                                 \n",
      " max_pooling2d (MaxPooling2D  (None, 126, 126, 6)      0         \n",
      " )                                                               \n",
      "                                                                 \n",
      " conv2d_1 (Conv2D)           (None, 122, 122, 16)      2416      \n",
      "                                                                 \n",
      " max_pooling2d_1 (MaxPooling  (None, 61, 61, 16)       0         \n",
      " 2D)                                                             \n",
      "                                                                 \n",
      " flatten (Flatten)           (None, 59536)             0         \n",
      "                                                                 \n",
      " dense (Dense)               (None, 120)               7144440   \n",
      "                                                                 \n",
      " dense_1 (Dense)             (None, 84)                10164     \n",
      "                                                                 \n",
      " dense_2 (Dense)             (None, 3)                 255       \n",
      "                                                                 \n",
      "=================================================================\n",
      "Total params: 7,157,731\n",
      "Trainable params: 7,157,731\n",
      "Non-trainable params: 0\n",
      "_________________________________________________________________\n"
     ]
    }
   ],
   "source": [
    "# Print the model summary\n",
    "model.summary()\n"
   ]
  },
  {
   "cell_type": "code",
   "execution_count": 4,
   "id": "41a1fc03",
   "metadata": {},
   "outputs": [],
   "source": [
    "# Set the training parameters\n",
    "model.compile(loss = 'categorical_crossentropy', optimizer=\"adam\", metrics=['accuracy'])"
   ]
  },
  {
   "cell_type": "code",
   "execution_count": 5,
   "id": "207a3eb9",
   "metadata": {},
   "outputs": [],
   "source": [
    "early_stopping = tf.keras.callbacks.EarlyStopping(monitor='val_loss', patience=3)"
   ]
  },
  {
   "cell_type": "code",
   "execution_count": 6,
   "id": "51475b43",
   "metadata": {},
   "outputs": [
    {
     "name": "stdout",
     "output_type": "stream",
     "text": [
      "Found 2415 images belonging to 3 classes.\n",
      "Found 1617 images belonging to 3 classes.\n"
     ]
    }
   ],
   "source": [
    "TRAINING_DIR = \"train\"\n",
    "training_datagen = ImageDataGenerator(\n",
    "    rescale = 1./255)\n",
    "\n",
    "VALIDATION_DIR = \"test\"\n",
    "validation_datagen = ImageDataGenerator(rescale = 1./255)\n",
    "\n",
    "train_generator = training_datagen.flow_from_directory(\n",
    "\tTRAINING_DIR,\n",
    "\ttarget_size=(256,256),\n",
    "\tclass_mode='categorical',\n",
    "  batch_size=100\n",
    ")\n",
    "\n",
    "validation_generator = validation_datagen.flow_from_directory(\n",
    "\tVALIDATION_DIR,\n",
    "\ttarget_size=(256,256),\n",
    "\tclass_mode='categorical',\n",
    "  batch_size=100\n",
    ")"
   ]
  },
  {
   "cell_type": "code",
   "execution_count": 7,
   "id": "b4d06805",
   "metadata": {},
   "outputs": [
    {
     "name": "stdout",
     "output_type": "stream",
     "text": [
      "Epoch 1/40\n",
      "20/20 [==============================] - 7s 208ms/step - loss: 0.9123 - accuracy: 0.7191 - val_loss: 0.6244 - val_accuracy: 0.8033\n",
      "Epoch 2/40\n",
      "20/20 [==============================] - 4s 184ms/step - loss: 0.3438 - accuracy: 0.8965 - val_loss: 0.5966 - val_accuracy: 0.8567\n",
      "Epoch 3/40\n",
      "20/20 [==============================] - 4s 179ms/step - loss: 0.2419 - accuracy: 0.9389 - val_loss: 0.3203 - val_accuracy: 0.9367\n",
      "Epoch 4/40\n",
      "20/20 [==============================] - 4s 178ms/step - loss: 0.1689 - accuracy: 0.9593 - val_loss: 0.3713 - val_accuracy: 0.9233\n",
      "Epoch 5/40\n",
      "20/20 [==============================] - 4s 179ms/step - loss: 0.1613 - accuracy: 0.9567 - val_loss: 0.4957 - val_accuracy: 0.8933\n",
      "Epoch 6/40\n",
      "20/20 [==============================] - 4s 178ms/step - loss: 0.1233 - accuracy: 0.9744 - val_loss: 0.3966 - val_accuracy: 0.9233\n",
      "Epoch 7/40\n",
      "20/20 [==============================] - 4s 179ms/step - loss: 0.0887 - accuracy: 0.9864 - val_loss: 0.3214 - val_accuracy: 0.9333\n",
      "Epoch 8/40\n",
      "20/20 [==============================] - 4s 178ms/step - loss: 0.0799 - accuracy: 0.9869 - val_loss: 0.4007 - val_accuracy: 0.9200\n",
      "Epoch 9/40\n",
      "20/20 [==============================] - 4s 178ms/step - loss: 0.0730 - accuracy: 0.9885 - val_loss: 0.3286 - val_accuracy: 0.9133\n",
      "Epoch 10/40\n",
      "20/20 [==============================] - 4s 178ms/step - loss: 0.0579 - accuracy: 0.9958 - val_loss: 0.6363 - val_accuracy: 0.9000\n",
      "Epoch 11/40\n",
      "20/20 [==============================] - 4s 179ms/step - loss: 0.0487 - accuracy: 0.9963 - val_loss: 0.6940 - val_accuracy: 0.8867\n",
      "Epoch 12/40\n",
      "20/20 [==============================] - 4s 184ms/step - loss: 0.0427 - accuracy: 0.9980 - val_loss: 0.5266 - val_accuracy: 0.9233\n",
      "Epoch 13/40\n",
      "20/20 [==============================] - 4s 180ms/step - loss: 0.0358 - accuracy: 1.0000 - val_loss: 0.4845 - val_accuracy: 0.9233\n",
      "Epoch 14/40\n",
      "20/20 [==============================] - 4s 179ms/step - loss: 0.0326 - accuracy: 1.0000 - val_loss: 0.5638 - val_accuracy: 0.9333\n",
      "Epoch 15/40\n",
      "20/20 [==============================] - 4s 179ms/step - loss: 0.0321 - accuracy: 1.0000 - val_loss: 0.4542 - val_accuracy: 0.9300\n",
      "Epoch 16/40\n",
      "20/20 [==============================] - 4s 179ms/step - loss: 0.0302 - accuracy: 1.0000 - val_loss: 0.4774 - val_accuracy: 0.9333\n",
      "Epoch 17/40\n",
      "20/20 [==============================] - 4s 178ms/step - loss: 0.0295 - accuracy: 1.0000 - val_loss: 0.5294 - val_accuracy: 0.9333\n",
      "Epoch 18/40\n",
      "20/20 [==============================] - 4s 178ms/step - loss: 0.0286 - accuracy: 1.0000 - val_loss: 0.5104 - val_accuracy: 0.9467\n",
      "Epoch 19/40\n",
      "20/20 [==============================] - 4s 179ms/step - loss: 0.0284 - accuracy: 1.0000 - val_loss: 0.5386 - val_accuracy: 0.9400\n",
      "Epoch 20/40\n",
      "20/20 [==============================] - 4s 186ms/step - loss: 0.0276 - accuracy: 1.0000 - val_loss: 0.7449 - val_accuracy: 0.9133\n",
      "Epoch 21/40\n",
      "20/20 [==============================] - 4s 179ms/step - loss: 0.0270 - accuracy: 1.0000 - val_loss: 0.8677 - val_accuracy: 0.9033\n",
      "Epoch 22/40\n",
      "20/20 [==============================] - 4s 178ms/step - loss: 0.0266 - accuracy: 1.0000 - val_loss: 0.6216 - val_accuracy: 0.8967\n",
      "Epoch 23/40\n",
      "20/20 [==============================] - 4s 180ms/step - loss: 0.0262 - accuracy: 1.0000 - val_loss: 0.6644 - val_accuracy: 0.9200\n",
      "Epoch 24/40\n",
      "20/20 [==============================] - 4s 181ms/step - loss: 0.0257 - accuracy: 1.0000 - val_loss: 0.6186 - val_accuracy: 0.9233\n",
      "Epoch 25/40\n",
      "20/20 [==============================] - 4s 184ms/step - loss: 0.0253 - accuracy: 1.0000 - val_loss: 0.6119 - val_accuracy: 0.9200\n",
      "Epoch 26/40\n",
      "20/20 [==============================] - 4s 180ms/step - loss: 0.0250 - accuracy: 1.0000 - val_loss: 0.6404 - val_accuracy: 0.9267\n",
      "Epoch 27/40\n",
      "20/20 [==============================] - 4s 180ms/step - loss: 0.0246 - accuracy: 1.0000 - val_loss: 0.6761 - val_accuracy: 0.9267\n",
      "Epoch 28/40\n",
      "20/20 [==============================] - 4s 179ms/step - loss: 0.0243 - accuracy: 1.0000 - val_loss: 0.3589 - val_accuracy: 0.9433\n",
      "Epoch 29/40\n",
      "20/20 [==============================] - 4s 177ms/step - loss: 0.0240 - accuracy: 1.0000 - val_loss: 0.3878 - val_accuracy: 0.9400\n",
      "Epoch 30/40\n",
      "20/20 [==============================] - 4s 186ms/step - loss: 0.0236 - accuracy: 1.0000 - val_loss: 0.5669 - val_accuracy: 0.9333\n",
      "Epoch 31/40\n",
      "20/20 [==============================] - 4s 178ms/step - loss: 0.0234 - accuracy: 1.0000 - val_loss: 0.6654 - val_accuracy: 0.9267\n",
      "Epoch 32/40\n",
      "20/20 [==============================] - 4s 184ms/step - loss: 0.0231 - accuracy: 1.0000 - val_loss: 0.7322 - val_accuracy: 0.9200\n",
      "Epoch 33/40\n",
      "20/20 [==============================] - 4s 178ms/step - loss: 0.0228 - accuracy: 1.0000 - val_loss: 0.8417 - val_accuracy: 0.9167\n",
      "Epoch 34/40\n",
      "20/20 [==============================] - 4s 180ms/step - loss: 0.0225 - accuracy: 1.0000 - val_loss: 0.6347 - val_accuracy: 0.9200\n",
      "Epoch 35/40\n",
      "20/20 [==============================] - 4s 178ms/step - loss: 0.0222 - accuracy: 1.0000 - val_loss: 0.6587 - val_accuracy: 0.9200\n",
      "Epoch 36/40\n",
      "20/20 [==============================] - 4s 179ms/step - loss: 0.0219 - accuracy: 1.0000 - val_loss: 0.5304 - val_accuracy: 0.9433\n",
      "Epoch 37/40\n",
      "20/20 [==============================] - 4s 184ms/step - loss: 0.0217 - accuracy: 1.0000 - val_loss: 0.6217 - val_accuracy: 0.9133\n",
      "Epoch 38/40\n",
      "20/20 [==============================] - 4s 180ms/step - loss: 0.0214 - accuracy: 1.0000 - val_loss: 0.8293 - val_accuracy: 0.9167\n",
      "Epoch 39/40\n",
      "20/20 [==============================] - 4s 185ms/step - loss: 0.0211 - accuracy: 1.0000 - val_loss: 0.4788 - val_accuracy: 0.9367\n",
      "Epoch 40/40\n",
      "20/20 [==============================] - 4s 185ms/step - loss: 0.0209 - accuracy: 1.0000 - val_loss: 0.5229 - val_accuracy: 0.9367\n"
     ]
    }
   ],
   "source": [
    "# Train the model\n",
    "history = model.fit(train_generator, epochs=40, steps_per_epoch=20, validation_data = validation_generator, verbose = 1, validation_steps=3)\n"
   ]
  },
  {
   "cell_type": "code",
   "execution_count": 8,
   "id": "439380a8",
   "metadata": {
    "scrolled": false
   },
   "outputs": [
    {
     "data": {
      "image/png": "[encoded data removed]",
      "text/plain": [
       "<Figure size 640x480 with 1 Axes>"
      ]
     },
     "metadata": {},
     "output_type": "display_data"
    },
    {
     "data": {
      "text/plain": [
       "<Figure size 640x480 with 0 Axes>"
      ]
     },
     "metadata": {},
     "output_type": "display_data"
    }
   ],
   "source": [
    "# Plot the results\n",
    "acc = history.history['accuracy']\n",
    "val_acc = history.history['val_accuracy']\n",
    "loss = history.history['loss']\n",
    "val_loss = history.history['val_loss']\n",
    "\n",
    "epochs = range(len(acc))\n",
    "\n",
    "plt.plot(epochs, acc, 'r', label='Training accuracy')\n",
    "plt.plot(epochs, val_acc, 'b', label='Validation accuracy')\n",
    "plt.title('Training and validation accuracy')\n",
    "plt.legend(loc=0)\n",
    "plt.figure()\n",
    "\n",
    "plt.show()"
   ]
  },
  {
   "cell_type": "code",
   "execution_count": 9,
   "id": "b223908c",
   "metadata": {},
   "outputs": [],
   "source": [
    "import numpy as np\n",
    "import keras.utils as image"
   ]
  },
  {
   "cell_type": "code",
   "execution_count": 10,
   "id": "2c3fa512",
   "metadata": {},
   "outputs": [
    {
     "name": "stdout",
     "output_type": "stream",
     "text": [
      "1/1 [==============================] - 0s 99ms/step\n",
      "[[1. 0. 0.]]\n",
      "1/1 [==============================] - 0s 10ms/step\n",
      "[[0. 1. 0.]]\n",
      "1/1 [==============================] - 0s 10ms/step\n",
      "[[0. 0. 1.]]\n"
     ]
    }
   ],
   "source": [
    "PREDICTION_DIR = \"prediction\"\n",
    "\n",
    "for image_name in os.listdir(PREDICTION_DIR):\n",
    " \n",
    "  # predicting images\n",
    "  path = \"prediction\\\\\" + image_name\n",
    "  img = image.load_img(path, target_size=(256, 256))\n",
    "  x = image.img_to_array(img)\n",
    "  x = np.expand_dims(x, axis=0)\n",
    "\n",
    "  images = np.vstack([x])\n",
    "  classes = model.predict(images)\n",
    "  print(classes)"
   ]
  },
  {
   "cell_type": "code",
   "execution_count": null,
   "id": "ac24b426",
   "metadata": {},
   "outputs": [],
   "source": []
  }
 ],
 "metadata": {
  "kernelspec": {
   "display_name": "Python 3 (ipykernel)",
   "language": "python",
   "name": "python3"
  },
  "language_info": {
   "codemirror_mode": {
    "name": "ipython",
    "version": 3
   },
   "file_extension": ".py",
   "mimetype": "text/x-python",
   "name": "python",
   "nbconvert_exporter": "python",
   "pygments_lexer": "ipython3",
   "version": "3.9.16"
  }
 },
 "nbformat": 4,
 "nbformat_minor": 5
}
